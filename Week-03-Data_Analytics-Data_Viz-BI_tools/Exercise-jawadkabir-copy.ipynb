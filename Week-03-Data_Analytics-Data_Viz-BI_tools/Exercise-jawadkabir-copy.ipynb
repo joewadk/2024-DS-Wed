{
 "cells": [
  {
   "cell_type": "code",
   "execution_count": 8,
   "id": "520b6c75-925e-4de5-bd9a-ed6a1f80eeb0",
   "metadata": {
    "tags": []
   },
   "outputs": [],
   "source": [
    "# Import pandas\n",
    "import pandas as pd\n"
   ]
  },
  {
   "cell_type": "code",
   "execution_count": 10,
   "id": "c25317bf-314a-4665-8166-5b0a2057f0ce",
   "metadata": {},
   "outputs": [
    {
     "name": "stdout",
     "output_type": "stream",
     "text": [
      "Collecting matplotlib\n",
      "  Using cached matplotlib-3.9.2-cp312-cp312-win_amd64.whl.metadata (11 kB)\n",
      "Collecting contourpy>=1.0.1 (from matplotlib)\n",
      "  Using cached contourpy-1.3.0-cp312-cp312-win_amd64.whl.metadata (5.4 kB)\n",
      "Collecting cycler>=0.10 (from matplotlib)\n",
      "  Using cached cycler-0.12.1-py3-none-any.whl.metadata (3.8 kB)\n",
      "Collecting fonttools>=4.22.0 (from matplotlib)\n",
      "  Using cached fonttools-4.53.1-cp312-cp312-win_amd64.whl.metadata (165 kB)\n",
      "Collecting kiwisolver>=1.3.1 (from matplotlib)\n",
      "  Downloading kiwisolver-1.4.7-cp312-cp312-win_amd64.whl.metadata (6.4 kB)\n",
      "Requirement already satisfied: numpy>=1.23 in c:\\users\\kabir\\.vscode\\code files\\2024-ds-wed\\.venv\\lib\\site-packages (from matplotlib) (2.1.0)\n",
      "Requirement already satisfied: packaging>=20.0 in c:\\users\\kabir\\.vscode\\code files\\2024-ds-wed\\.venv\\lib\\site-packages (from matplotlib) (24.1)\n",
      "Collecting pillow>=8 (from matplotlib)\n",
      "  Using cached pillow-10.4.0-cp312-cp312-win_amd64.whl.metadata (9.3 kB)\n",
      "Collecting pyparsing>=2.3.1 (from matplotlib)\n",
      "  Using cached pyparsing-3.1.4-py3-none-any.whl.metadata (5.1 kB)\n",
      "Requirement already satisfied: python-dateutil>=2.7 in c:\\users\\kabir\\.vscode\\code files\\2024-ds-wed\\.venv\\lib\\site-packages (from matplotlib) (2.9.0.post0)\n",
      "Requirement already satisfied: six>=1.5 in c:\\users\\kabir\\.vscode\\code files\\2024-ds-wed\\.venv\\lib\\site-packages (from python-dateutil>=2.7->matplotlib) (1.16.0)\n",
      "Using cached matplotlib-3.9.2-cp312-cp312-win_amd64.whl (7.8 MB)\n",
      "Using cached contourpy-1.3.0-cp312-cp312-win_amd64.whl (218 kB)\n",
      "Using cached cycler-0.12.1-py3-none-any.whl (8.3 kB)\n",
      "Using cached fonttools-4.53.1-cp312-cp312-win_amd64.whl (2.2 MB)\n",
      "Downloading kiwisolver-1.4.7-cp312-cp312-win_amd64.whl (55 kB)\n",
      "   ---------------------------------------- 0.0/55.9 kB ? eta -:--:--\n",
      "   ----------------------------- ---------- 41.0/55.9 kB 991.0 kB/s eta 0:00:01\n",
      "   ---------------------------------------- 55.9/55.9 kB 971.1 kB/s eta 0:00:00\n",
      "Using cached pillow-10.4.0-cp312-cp312-win_amd64.whl (2.6 MB)\n",
      "Using cached pyparsing-3.1.4-py3-none-any.whl (104 kB)\n",
      "Installing collected packages: pyparsing, pillow, kiwisolver, fonttools, cycler, contourpy, matplotlib\n",
      "Successfully installed contourpy-1.3.0 cycler-0.12.1 fonttools-4.53.1 kiwisolver-1.4.7 matplotlib-3.9.2 pillow-10.4.0 pyparsing-3.1.4\n",
      "Note: you may need to restart the kernel to use updated packages.\n"
     ]
    },
    {
     "name": "stderr",
     "output_type": "stream",
     "text": [
      "\n",
      "[notice] A new release of pip is available: 24.0 -> 24.2\n",
      "[notice] To update, run: python.exe -m pip install --upgrade pip\n"
     ]
    }
   ],
   "source": [
    "pip install matplotlib"
   ]
  },
  {
   "cell_type": "code",
   "execution_count": 2,
   "id": "cc7fa726-c2fd-4cfd-9970-7da5371638be",
   "metadata": {
    "tags": []
   },
   "outputs": [],
   "source": [
    "# Load in the listings data\n",
    "df=pd.read_csv('data/listings.csv')"
   ]
  },
  {
   "cell_type": "markdown",
   "id": "859bfd59-1ab7-4b81-9953-7b88ff7cc1bb",
   "metadata": {},
   "source": [
    "####  Exercise 1: Create a bar chart and a corresponding pivot table of the top 10 most expensive Neigborhoods\n",
    "Our goal is to make a chart reflecting the top 10 most expensive Neighborhoods.\n",
    "This is a little dubious - we assign \"expensive\" by calculating the average cost of \n",
    "an AirBnB in each neighborhood, then we take the top ten and weight each slice \n",
    "by the average value.\n",
    "\n",
    "1. Make a dataframe that sorts the neighborhood field by decending price.  \n",
    "1. Use head to cut back top the top 10\n",
    "1. Use pandas.plot.barh to generate a histogram (see [this](https://pandas.pydata.org/pandas-docs/stable/reference/api/pandas.DataFrame.plot.barh.html) wiki for details on pandas.plot.barh)\n",
    "1. Display the data that you used to create the bar chart as a table with neighborhood and average price as the columns.  You want this to match the pivot that you create in youur dashboard"
   ]
  },
  {
   "cell_type": "code",
   "execution_count": 21,
   "id": "52f83939-3f09-40ac-baab-794afa048f92",
   "metadata": {
    "tags": []
   },
   "outputs": [
    {
     "data": {
      "text/plain": [
       "<Axes: ylabel='neighbourhood'>"
      ]
     },
     "execution_count": 21,
     "metadata": {},
     "output_type": "execute_result"
    },
    {
     "data": {
      "image/png": "[encoded data removed]",
      "text/plain": [
       "<Figure size 640x480 with 1 Axes>"
      ]
     },
     "metadata": {},
     "output_type": "display_data"
    }
   ],
   "source": [
    "# our goal is to make a chart reflecting the top 10 most expensive Neighborhoods\n",
    "# This is a little dubious - we assign \"expensive\" by calculating the average cost of \n",
    "# an AirBnB in each neighborhood, then we take the top ten and weight each slice \n",
    "# by the average value.\n",
    "#\n",
    "# make a dataframe that sorts the neighborhood field by decending price.  \n",
    "# Use head to cut back top the top 10. Then, use df.plot.barh to generate a histogram.\n",
    "df_avg_price = df.groupby('neighbourhood')['price'].mean()\n",
    "df_avg_price_sorted = df_avg_price.sort_values(ascending=False)\n",
    "df_top_10 = df_avg_price_sorted.head(10).reset_index()\n",
    "df_top_10.plot.barh(x='neighbourhood', y='price', color='skyblue', legend=False)"
   ]
  },
  {
   "cell_type": "code",
   "execution_count": 22,
   "id": "6726d887-f20b-4d7c-83e8-4583c90dbb70",
   "metadata": {},
   "outputs": [
    {
     "data": {
      "text/html": [
       "<div>\n",
       "<style scoped>\n",
       "    .dataframe tbody tr th:only-of-type {\n",
       "        vertical-align: middle;\n",
       "    }\n",
       "\n",
       "    .dataframe tbody tr th {\n",
       "        vertical-align: top;\n",
       "    }\n",
       "\n",
       "    .dataframe thead th {\n",
       "        text-align: right;\n",
       "    }\n",
       "</style>\n",
       "<table border=\"1\" class=\"dataframe\">\n",
       "  <thead>\n",
       "    <tr style=\"text-align: right;\">\n",
       "      <th></th>\n",
       "      <th>neighbourhood</th>\n",
       "      <th>price</th>\n",
       "    </tr>\n",
       "  </thead>\n",
       "  <tbody>\n",
       "    <tr>\n",
       "      <th>0</th>\n",
       "      <td>Fort Wadsworth</td>\n",
       "      <td>800.000000</td>\n",
       "    </tr>\n",
       "    <tr>\n",
       "      <th>1</th>\n",
       "      <td>Woodrow</td>\n",
       "      <td>700.000000</td>\n",
       "    </tr>\n",
       "    <tr>\n",
       "      <th>2</th>\n",
       "      <td>Sea Gate</td>\n",
       "      <td>418.230769</td>\n",
       "    </tr>\n",
       "    <tr>\n",
       "      <th>3</th>\n",
       "      <td>Tribeca</td>\n",
       "      <td>381.107143</td>\n",
       "    </tr>\n",
       "    <tr>\n",
       "      <th>4</th>\n",
       "      <td>Flatiron District</td>\n",
       "      <td>367.415584</td>\n",
       "    </tr>\n",
       "    <tr>\n",
       "      <th>5</th>\n",
       "      <td>Briarwood</td>\n",
       "      <td>366.162162</td>\n",
       "    </tr>\n",
       "    <tr>\n",
       "      <th>6</th>\n",
       "      <td>Financial District</td>\n",
       "      <td>335.385057</td>\n",
       "    </tr>\n",
       "    <tr>\n",
       "      <th>7</th>\n",
       "      <td>Willowbrook</td>\n",
       "      <td>309.000000</td>\n",
       "    </tr>\n",
       "    <tr>\n",
       "      <th>8</th>\n",
       "      <td>Tottenville</td>\n",
       "      <td>309.000000</td>\n",
       "    </tr>\n",
       "    <tr>\n",
       "      <th>9</th>\n",
       "      <td>Prince's Bay</td>\n",
       "      <td>300.000000</td>\n",
       "    </tr>\n",
       "  </tbody>\n",
       "</table>\n",
       "</div>"
      ],
      "text/plain": [
       "        neighbourhood       price\n",
       "0      Fort Wadsworth  800.000000\n",
       "1             Woodrow  700.000000\n",
       "2            Sea Gate  418.230769\n",
       "3             Tribeca  381.107143\n",
       "4   Flatiron District  367.415584\n",
       "5           Briarwood  366.162162\n",
       "6  Financial District  335.385057\n",
       "7         Willowbrook  309.000000\n",
       "8         Tottenville  309.000000\n",
       "9        Prince's Bay  300.000000"
      ]
     },
     "execution_count": 22,
     "metadata": {},
     "output_type": "execute_result"
    }
   ],
   "source": [
    "df_top_10"
   ]
  },
  {
   "cell_type": "code",
   "execution_count": 4,
   "id": "2e13649f-2187-4069-8b5d-2ef55019913b",
   "metadata": {},
   "outputs": [
    {
     "data": {
      "text/plain": [
       "Index(['id', 'name', 'host_id', 'host_name', 'neighbourhood_group',\n",
       "       'neighbourhood', 'latitude', 'longitude', 'room_type', 'price',\n",
       "       'minimum_nights', 'number_of_reviews', 'last_review',\n",
       "       'reviews_per_month', 'calculated_host_listings_count',\n",
       "       'availability_365'],\n",
       "      dtype='object')"
      ]
     },
     "execution_count": 4,
     "metadata": {},
     "output_type": "execute_result"
    }
   ],
   "source": [
    "df.columns #debug stuff"
   ]
  },
  {
   "cell_type": "code",
   "execution_count": 23,
   "id": "f96404b4-04de-4365-b11c-ceea9ef92468",
   "metadata": {
    "tags": []
   },
   "outputs": [
    {
     "data": {
      "text/html": [
       "<div>\n",
       "<style scoped>\n",
       "    .dataframe tbody tr th:only-of-type {\n",
       "        vertical-align: middle;\n",
       "    }\n",
       "\n",
       "    .dataframe tbody tr th {\n",
       "        vertical-align: top;\n",
       "    }\n",
       "\n",
       "    .dataframe thead th {\n",
       "        text-align: right;\n",
       "    }\n",
       "</style>\n",
       "<table border=\"1\" class=\"dataframe\">\n",
       "  <thead>\n",
       "    <tr style=\"text-align: right;\">\n",
       "      <th></th>\n",
       "      <th>neighbourhood</th>\n",
       "      <th>price</th>\n",
       "    </tr>\n",
       "  </thead>\n",
       "  <tbody>\n",
       "    <tr>\n",
       "      <th>0</th>\n",
       "      <td>Fort Wadsworth</td>\n",
       "      <td>800.000000</td>\n",
       "    </tr>\n",
       "    <tr>\n",
       "      <th>1</th>\n",
       "      <td>Woodrow</td>\n",
       "      <td>700.000000</td>\n",
       "    </tr>\n",
       "    <tr>\n",
       "      <th>2</th>\n",
       "      <td>Sea Gate</td>\n",
       "      <td>418.230769</td>\n",
       "    </tr>\n",
       "    <tr>\n",
       "      <th>3</th>\n",
       "      <td>Tribeca</td>\n",
       "      <td>381.107143</td>\n",
       "    </tr>\n",
       "    <tr>\n",
       "      <th>4</th>\n",
       "      <td>Flatiron District</td>\n",
       "      <td>367.415584</td>\n",
       "    </tr>\n",
       "    <tr>\n",
       "      <th>5</th>\n",
       "      <td>Briarwood</td>\n",
       "      <td>366.162162</td>\n",
       "    </tr>\n",
       "    <tr>\n",
       "      <th>6</th>\n",
       "      <td>Financial District</td>\n",
       "      <td>335.385057</td>\n",
       "    </tr>\n",
       "    <tr>\n",
       "      <th>7</th>\n",
       "      <td>Willowbrook</td>\n",
       "      <td>309.000000</td>\n",
       "    </tr>\n",
       "    <tr>\n",
       "      <th>8</th>\n",
       "      <td>Tottenville</td>\n",
       "      <td>309.000000</td>\n",
       "    </tr>\n",
       "    <tr>\n",
       "      <th>9</th>\n",
       "      <td>Prince's Bay</td>\n",
       "      <td>300.000000</td>\n",
       "    </tr>\n",
       "  </tbody>\n",
       "</table>\n",
       "</div>"
      ],
      "text/plain": [
       "        neighbourhood       price\n",
       "0      Fort Wadsworth  800.000000\n",
       "1             Woodrow  700.000000\n",
       "2            Sea Gate  418.230769\n",
       "3             Tribeca  381.107143\n",
       "4   Flatiron District  367.415584\n",
       "5           Briarwood  366.162162\n",
       "6  Financial District  335.385057\n",
       "7         Willowbrook  309.000000\n",
       "8         Tottenville  309.000000\n",
       "9        Prince's Bay  300.000000"
      ]
     },
     "execution_count": 23,
     "metadata": {},
     "output_type": "execute_result"
    }
   ],
   "source": [
    "# Now, display the top 10 datframe you created as a table with columns\n",
    "# neighbourhood and price\n",
    "df_top_10\n"
   ]
  },
  {
   "cell_type": "markdown",
   "id": "0eecec35-4f94-4faf-9d98-f16211801ffd",
   "metadata": {},
   "source": [
    "## Exercise 2: Now, create a bar chart and a corresponding pivot table of the top 10 LEAST expensive Neigborhoods\n",
    "Do the same thing you just did, but get the 10 least expensive neighborhoods.  Sort them from lowest average price to highest.  Bew wure to provide a pivot table."
   ]
  },
  {
   "cell_type": "code",
   "execution_count": 26,
   "id": "b1712997-2ab1-4dee-b506-f448b4c0829e",
   "metadata": {
    "tags": []
   },
   "outputs": [
    {
     "data": {
      "text/plain": [
       "<Axes: ylabel='neighbourhood'>"
      ]
     },
     "execution_count": 26,
     "metadata": {},
     "output_type": "execute_result"
    },
    {
     "data": {
      "image/png": "[encoded data removed]",
      "text/plain": [
       "<Figure size 640x480 with 1 Axes>"
      ]
     },
     "metadata": {},
     "output_type": "display_data"
    }
   ],
   "source": [
    "# Here we make the same chart using the bottom 10 Neighborhoods\n",
    "# by average price.  We sort ascending in this one.\n",
    "df_avg_price = df.groupby('neighbourhood')['price'].mean()\n",
    "df_avg_price_sorted = df_avg_price.sort_values(ascending=True)\n",
    "df_bottom_10 = df_avg_price_sorted.head(10).reset_index()\n",
    "df_bottom_10.plot.barh(x='neighbourhood', y='price', color='skyblue', legend=False)\n"
   ]
  },
  {
   "cell_type": "code",
   "execution_count": 27,
   "id": "92a1d4e4-4bae-411b-aee8-3d41b89c6272",
   "metadata": {
    "tags": []
   },
   "outputs": [
    {
     "data": {
      "text/html": [
       "<div>\n",
       "<style scoped>\n",
       "    .dataframe tbody tr th:only-of-type {\n",
       "        vertical-align: middle;\n",
       "    }\n",
       "\n",
       "    .dataframe tbody tr th {\n",
       "        vertical-align: top;\n",
       "    }\n",
       "\n",
       "    .dataframe thead th {\n",
       "        text-align: right;\n",
       "    }\n",
       "</style>\n",
       "<table border=\"1\" class=\"dataframe\">\n",
       "  <thead>\n",
       "    <tr style=\"text-align: right;\">\n",
       "      <th></th>\n",
       "      <th>neighbourhood</th>\n",
       "      <th>price</th>\n",
       "    </tr>\n",
       "  </thead>\n",
       "  <tbody>\n",
       "    <tr>\n",
       "      <th>0</th>\n",
       "      <td>South Beach</td>\n",
       "      <td>45.000000</td>\n",
       "    </tr>\n",
       "    <tr>\n",
       "      <th>1</th>\n",
       "      <td>Bull's Head</td>\n",
       "      <td>49.666667</td>\n",
       "    </tr>\n",
       "    <tr>\n",
       "      <th>2</th>\n",
       "      <td>Port Richmond</td>\n",
       "      <td>51.222222</td>\n",
       "    </tr>\n",
       "    <tr>\n",
       "      <th>3</th>\n",
       "      <td>Soundview</td>\n",
       "      <td>52.055556</td>\n",
       "    </tr>\n",
       "    <tr>\n",
       "      <th>4</th>\n",
       "      <td>New Brighton</td>\n",
       "      <td>52.250000</td>\n",
       "    </tr>\n",
       "    <tr>\n",
       "      <th>5</th>\n",
       "      <td>Bay Terrace, Staten Island</td>\n",
       "      <td>55.000000</td>\n",
       "    </tr>\n",
       "    <tr>\n",
       "      <th>6</th>\n",
       "      <td>Hunts Point</td>\n",
       "      <td>56.583333</td>\n",
       "    </tr>\n",
       "    <tr>\n",
       "      <th>7</th>\n",
       "      <td>University Heights</td>\n",
       "      <td>57.826087</td>\n",
       "    </tr>\n",
       "    <tr>\n",
       "      <th>8</th>\n",
       "      <td>Grant City</td>\n",
       "      <td>58.400000</td>\n",
       "    </tr>\n",
       "    <tr>\n",
       "      <th>9</th>\n",
       "      <td>Olinville</td>\n",
       "      <td>59.428571</td>\n",
       "    </tr>\n",
       "  </tbody>\n",
       "</table>\n",
       "</div>"
      ],
      "text/plain": [
       "                neighbourhood      price\n",
       "0                 South Beach  45.000000\n",
       "1                 Bull's Head  49.666667\n",
       "2               Port Richmond  51.222222\n",
       "3                   Soundview  52.055556\n",
       "4                New Brighton  52.250000\n",
       "5  Bay Terrace, Staten Island  55.000000\n",
       "6                 Hunts Point  56.583333\n",
       "7          University Heights  57.826087\n",
       "8                  Grant City  58.400000\n",
       "9                   Olinville  59.428571"
      ]
     },
     "execution_count": 27,
     "metadata": {},
     "output_type": "execute_result"
    }
   ],
   "source": [
    "# we also would like to have the corresponding pivot table of the top 10\n",
    "df_bottom_10"
   ]
  },
  {
   "cell_type": "code",
   "execution_count": null,
   "id": "87ac7c97-b384-42d2-abdb-a26e98b12179",
   "metadata": {},
   "outputs": [],
   "source": [
    "#  Now make all four widgets in a Tableau dashboard!"
   ]
  }
 ],
 "metadata": {
  "kernelspec": {
   "display_name": "Python 3 (ipykernel)",
   "language": "python",
   "name": "python3"
  },
  "language_info": {
   "codemirror_mode": {
    "name": "ipython",
    "version": 3
   },
   "file_extension": ".py",
   "mimetype": "text/x-python",
   "name": "python",
   "nbconvert_exporter": "python",
   "pygments_lexer": "ipython3",
   "version": "3.12.4"
  }
 },
 "nbformat": 4,
 "nbformat_minor": 5
}
