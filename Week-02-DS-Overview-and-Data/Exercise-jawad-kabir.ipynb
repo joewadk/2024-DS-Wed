{
 "cells": [
  {
   "cell_type": "markdown",
   "metadata": {},
   "source": [
    "# Fall 2024 Data Science Track: Week 2 - Data Cleaning Exercise"
   ]
  },
  {
   "cell_type": "markdown",
   "metadata": {},
   "source": [
    "## Packages, Packages, Packages!\n",
    "\n",
    "Import *all* the things here! You need the standard stuff: `pandas` and `numpy`.\n",
    "\n",
    "If you got more stuff you want to use, add them here too. 🙂"
   ]
  },
  {
   "cell_type": "code",
   "execution_count": 116,
   "metadata": {},
   "outputs": [],
   "source": [
    "# Import here.\n",
    "import pandas as pd\n",
    "import numpy as np\n"
   ]
  },
  {
   "cell_type": "markdown",
   "metadata": {},
   "source": [
    "## Introduction\n",
    "\n",
    "With the packages out of the way, now you will be working with the following data sets:\n",
    "\n",
    "* `food_coded.csv`: [Food choices](https://www.kaggle.com/datasets/borapajo/food-choices?select=food_coded.csv) from Kaggle\n",
    "* `Ask A Manager Salary Survey 2021 (Responses) - Form Responses 1.tsv`: [Ask A Manager Salary Survey 2021 (Responses)](https://docs.google.com/spreadsheets/d/1IPS5dBSGtwYVbjsfbaMCYIWnOuRmJcbequohNxCyGVw/view?&gid=1625408792) as *Tab Separated Values (.tsv)* from Google Docs\n",
    "\n",
    "Each one poses different challenges. But you’ll―of course―overcome them with what you learned in class! 😉"
   ]
  },
  {
   "cell_type": "markdown",
   "metadata": {},
   "source": [
    "## Food Choices Data Set"
   ]
  },
  {
   "cell_type": "markdown",
   "metadata": {},
   "source": [
    "### Load the Data"
   ]
  },
  {
   "cell_type": "code",
   "execution_count": 117,
   "metadata": {},
   "outputs": [],
   "source": [
    "# Load the Food choices data set into a variable (e.g., df_food).\n",
    "\n",
    "food_data_set_path = 'data/food_coded.csv'\n",
    "\n",
    "df_food = pd.read_csv(food_data_set_path)"
   ]
  },
  {
   "cell_type": "markdown",
   "metadata": {},
   "source": [
    "### Explore the Data"
   ]
  },
  {
   "cell_type": "markdown",
   "metadata": {},
   "source": [
    "How much data did you just load?"
   ]
  },
  {
   "cell_type": "code",
   "execution_count": 118,
   "metadata": {},
   "outputs": [
    {
     "data": {
      "text/plain": [
       "(125, 61)"
      ]
     },
     "execution_count": 118,
     "metadata": {},
     "output_type": "execute_result"
    }
   ],
   "source": [
    "df_food.shape"
   ]
  },
  {
   "cell_type": "markdown",
   "metadata": {},
   "source": [
    "What are the columns and their types in this data set?"
   ]
  },
  {
   "cell_type": "code",
   "execution_count": 119,
   "metadata": {},
   "outputs": [
    {
     "name": "stdout",
     "output_type": "stream",
     "text": [
      "Index(['GPA', 'Gender', 'breakfast', 'calories_chicken', 'calories_day',\n",
      "       'calories_scone', 'coffee', 'comfort_food', 'comfort_food_reasons',\n",
      "       'comfort_food_reasons_coded', 'cook', 'comfort_food_reasons_coded.1',\n",
      "       'cuisine', 'diet_current', 'diet_current_coded', 'drink',\n",
      "       'eating_changes', 'eating_changes_coded', 'eating_changes_coded1',\n",
      "       'eating_out', 'employment', 'ethnic_food', 'exercise',\n",
      "       'father_education', 'father_profession', 'fav_cuisine',\n",
      "       'fav_cuisine_coded', 'fav_food', 'food_childhood', 'fries', 'fruit_day',\n",
      "       'grade_level', 'greek_food', 'healthy_feeling', 'healthy_meal',\n",
      "       'ideal_diet', 'ideal_diet_coded', 'income', 'indian_food',\n",
      "       'italian_food', 'life_rewarding', 'marital_status',\n",
      "       'meals_dinner_friend', 'mother_education', 'mother_profession',\n",
      "       'nutritional_check', 'on_off_campus', 'parents_cook', 'pay_meal_out',\n",
      "       'persian_food', 'self_perception_weight', 'soup', 'sports', 'thai_food',\n",
      "       'tortilla_calories', 'turkey_calories', 'type_sports', 'veggies_day',\n",
      "       'vitamins', 'waffle_calories', 'weight'],\n",
      "      dtype='object')\n",
      "GPA                  object\n",
      "Gender                int64\n",
      "breakfast             int64\n",
      "calories_chicken      int64\n",
      "calories_day        float64\n",
      "                     ...   \n",
      "type_sports          object\n",
      "veggies_day           int64\n",
      "vitamins              int64\n",
      "waffle_calories       int64\n",
      "weight               object\n",
      "Length: 61, dtype: object\n"
     ]
    }
   ],
   "source": [
    "print(df_food.columns)\n",
    "print(df_food.dtypes)\n",
    "\n"
   ]
  },
  {
   "cell_type": "markdown",
   "metadata": {},
   "source": [
    "### Clean the Data\n",
    "\n",
    "Perhaps we’d like to know more another day, but the team is really interested in just the relationship between calories (`calories_day`) and weight. …and maybe gender."
   ]
  },
  {
   "cell_type": "markdown",
   "metadata": {},
   "source": [
    "Can you remove the other columns?"
   ]
  },
  {
   "cell_type": "code",
   "execution_count": 120,
   "metadata": {},
   "outputs": [],
   "source": [
    "df_food=df_food[['calories_day','weight']]"
   ]
  },
  {
   "cell_type": "markdown",
   "metadata": {},
   "source": [
    "What about `NaN`s? How many are there?"
   ]
  },
  {
   "cell_type": "code",
   "execution_count": 121,
   "metadata": {},
   "outputs": [
    {
     "data": {
      "text/plain": [
       "calories_day    19\n",
       "weight           2\n",
       "dtype: int64"
      ]
     },
     "execution_count": 121,
     "metadata": {},
     "output_type": "execute_result"
    }
   ],
   "source": [
    "df_food.isna().sum()\n"
   ]
  },
  {
   "cell_type": "markdown",
   "metadata": {},
   "source": [
    "We gotta remove those `NaN`s―the entire row."
   ]
  },
  {
   "cell_type": "code",
   "execution_count": 122,
   "metadata": {},
   "outputs": [
    {
     "data": {
      "text/html": [
       "<div>\n",
       "<style scoped>\n",
       "    .dataframe tbody tr th:only-of-type {\n",
       "        vertical-align: middle;\n",
       "    }\n",
       "\n",
       "    .dataframe tbody tr th {\n",
       "        vertical-align: top;\n",
       "    }\n",
       "\n",
       "    .dataframe thead th {\n",
       "        text-align: right;\n",
       "    }\n",
       "</style>\n",
       "<table border=\"1\" class=\"dataframe\">\n",
       "  <thead>\n",
       "    <tr style=\"text-align: right;\">\n",
       "      <th></th>\n",
       "      <th>calories_day</th>\n",
       "      <th>weight</th>\n",
       "    </tr>\n",
       "  </thead>\n",
       "  <tbody>\n",
       "    <tr>\n",
       "      <th>1</th>\n",
       "      <td>3.0</td>\n",
       "      <td>155</td>\n",
       "    </tr>\n",
       "    <tr>\n",
       "      <th>2</th>\n",
       "      <td>4.0</td>\n",
       "      <td>I'm not answering this.</td>\n",
       "    </tr>\n",
       "    <tr>\n",
       "      <th>3</th>\n",
       "      <td>3.0</td>\n",
       "      <td>Not sure, 240</td>\n",
       "    </tr>\n",
       "    <tr>\n",
       "      <th>4</th>\n",
       "      <td>2.0</td>\n",
       "      <td>190</td>\n",
       "    </tr>\n",
       "    <tr>\n",
       "      <th>5</th>\n",
       "      <td>3.0</td>\n",
       "      <td>190</td>\n",
       "    </tr>\n",
       "    <tr>\n",
       "      <th>...</th>\n",
       "      <td>...</td>\n",
       "      <td>...</td>\n",
       "    </tr>\n",
       "    <tr>\n",
       "      <th>118</th>\n",
       "      <td>3.0</td>\n",
       "      <td>140</td>\n",
       "    </tr>\n",
       "    <tr>\n",
       "      <th>119</th>\n",
       "      <td>3.0</td>\n",
       "      <td>185</td>\n",
       "    </tr>\n",
       "    <tr>\n",
       "      <th>120</th>\n",
       "      <td>4.0</td>\n",
       "      <td>156</td>\n",
       "    </tr>\n",
       "    <tr>\n",
       "      <th>121</th>\n",
       "      <td>2.0</td>\n",
       "      <td>180</td>\n",
       "    </tr>\n",
       "    <tr>\n",
       "      <th>123</th>\n",
       "      <td>4.0</td>\n",
       "      <td>135</td>\n",
       "    </tr>\n",
       "  </tbody>\n",
       "</table>\n",
       "<p>104 rows × 2 columns</p>\n",
       "</div>"
      ],
      "text/plain": [
       "     calories_day                    weight\n",
       "1             3.0                       155\n",
       "2             4.0  I'm not answering this. \n",
       "3             3.0             Not sure, 240\n",
       "4             2.0                       190\n",
       "5             3.0                       190\n",
       "..            ...                       ...\n",
       "118           3.0                       140\n",
       "119           3.0                       185\n",
       "120           4.0                       156\n",
       "121           2.0                       180\n",
       "123           4.0                       135\n",
       "\n",
       "[104 rows x 2 columns]"
      ]
     },
     "execution_count": 122,
     "metadata": {},
     "output_type": "execute_result"
    }
   ],
   "source": [
    "df_food.dropna()\n"
   ]
  },
  {
   "cell_type": "markdown",
   "metadata": {},
   "source": [
    "But what about the weird non-numeric values in the column obviously meant for numeric data?\n",
    "\n",
    "Notice the data type of that column from when you got the types of all the columns?\n",
    "\n",
    "If only we could convert the column to a numeric type and drop the rows with invalid values. 🤔"
   ]
  },
  {
   "cell_type": "code",
   "execution_count": 123,
   "metadata": {},
   "outputs": [
    {
     "data": {
      "text/html": [
       "<div>\n",
       "<style scoped>\n",
       "    .dataframe tbody tr th:only-of-type {\n",
       "        vertical-align: middle;\n",
       "    }\n",
       "\n",
       "    .dataframe tbody tr th {\n",
       "        vertical-align: top;\n",
       "    }\n",
       "\n",
       "    .dataframe thead th {\n",
       "        text-align: right;\n",
       "    }\n",
       "</style>\n",
       "<table border=\"1\" class=\"dataframe\">\n",
       "  <thead>\n",
       "    <tr style=\"text-align: right;\">\n",
       "      <th></th>\n",
       "      <th>calories_day</th>\n",
       "      <th>weight</th>\n",
       "    </tr>\n",
       "  </thead>\n",
       "  <tbody>\n",
       "    <tr>\n",
       "      <th>1</th>\n",
       "      <td>3.0</td>\n",
       "      <td>155.0</td>\n",
       "    </tr>\n",
       "    <tr>\n",
       "      <th>4</th>\n",
       "      <td>2.0</td>\n",
       "      <td>190.0</td>\n",
       "    </tr>\n",
       "    <tr>\n",
       "      <th>5</th>\n",
       "      <td>3.0</td>\n",
       "      <td>190.0</td>\n",
       "    </tr>\n",
       "    <tr>\n",
       "      <th>6</th>\n",
       "      <td>3.0</td>\n",
       "      <td>180.0</td>\n",
       "    </tr>\n",
       "    <tr>\n",
       "      <th>7</th>\n",
       "      <td>3.0</td>\n",
       "      <td>137.0</td>\n",
       "    </tr>\n",
       "    <tr>\n",
       "      <th>...</th>\n",
       "      <td>...</td>\n",
       "      <td>...</td>\n",
       "    </tr>\n",
       "    <tr>\n",
       "      <th>118</th>\n",
       "      <td>3.0</td>\n",
       "      <td>140.0</td>\n",
       "    </tr>\n",
       "    <tr>\n",
       "      <th>119</th>\n",
       "      <td>3.0</td>\n",
       "      <td>185.0</td>\n",
       "    </tr>\n",
       "    <tr>\n",
       "      <th>120</th>\n",
       "      <td>4.0</td>\n",
       "      <td>156.0</td>\n",
       "    </tr>\n",
       "    <tr>\n",
       "      <th>121</th>\n",
       "      <td>2.0</td>\n",
       "      <td>180.0</td>\n",
       "    </tr>\n",
       "    <tr>\n",
       "      <th>123</th>\n",
       "      <td>4.0</td>\n",
       "      <td>135.0</td>\n",
       "    </tr>\n",
       "  </tbody>\n",
       "</table>\n",
       "<p>101 rows × 2 columns</p>\n",
       "</div>"
      ],
      "text/plain": [
       "     calories_day  weight\n",
       "1             3.0   155.0\n",
       "4             2.0   190.0\n",
       "5             3.0   190.0\n",
       "6             3.0   180.0\n",
       "7             3.0   137.0\n",
       "..            ...     ...\n",
       "118           3.0   140.0\n",
       "119           3.0   185.0\n",
       "120           4.0   156.0\n",
       "121           2.0   180.0\n",
       "123           4.0   135.0\n",
       "\n",
       "[101 rows x 2 columns]"
      ]
     },
     "execution_count": 123,
     "metadata": {},
     "output_type": "execute_result"
    }
   ],
   "source": [
    "# Fix that.\n",
    "df_food['weight']=pd.to_numeric(df_food['weight'], errors='coerce')\n",
    "df_food = df_food.dropna()\n",
    "df_food"
   ]
  },
  {
   "cell_type": "markdown",
   "metadata": {},
   "source": [
    "Now this data seems reasonably clean for our purposes! 😁\n",
    "\n",
    "Let’s save it somewhere to be shipped off to another teammate. 💾"
   ]
  },
  {
   "cell_type": "code",
   "execution_count": 124,
   "metadata": {},
   "outputs": [],
   "source": [
    "df_food.to_csv('data/food_updated.csv')\n",
    "\n"
   ]
  },
  {
   "cell_type": "markdown",
   "metadata": {},
   "source": [
    "## Ask a Manager Salary Survey 2021 (Responses) Data Set"
   ]
  },
  {
   "cell_type": "markdown",
   "metadata": {},
   "source": [
    "### Load the Data"
   ]
  },
  {
   "cell_type": "code",
   "execution_count": 125,
   "metadata": {},
   "outputs": [],
   "source": [
    "# Load the Ask A Manager Salary Survey 2021 (Responses) data set into a variable (e.g., df_salary).\n",
    "df_salary=pd.read_csv('data/Ask A Manager Salary Survey 2021 (Responses) - Form Responses 1.tsv',delimiter='\\t')\n",
    "\n"
   ]
  },
  {
   "cell_type": "markdown",
   "metadata": {},
   "source": [
    "Was that hard? 🙃"
   ]
  },
  {
   "cell_type": "markdown",
   "metadata": {},
   "source": [
    "#### rename the file to something that is better for all systems.  \n",
    "* No spaces in filename (can use '_')\n",
    "* all lower case"
   ]
  },
  {
   "cell_type": "markdown",
   "metadata": {},
   "source": [
    "### Explore\n",
    "\n",
    "You know the drill."
   ]
  },
  {
   "cell_type": "markdown",
   "metadata": {},
   "source": [
    "How much data did you just load?"
   ]
  },
  {
   "cell_type": "code",
   "execution_count": 126,
   "metadata": {},
   "outputs": [
    {
     "data": {
      "text/plain": [
       "(28062, 18)"
      ]
     },
     "execution_count": 126,
     "metadata": {},
     "output_type": "execute_result"
    }
   ],
   "source": [
    "# Count by hand. I’m dead serious.\n",
    "df_salary.shape\n"
   ]
  },
  {
   "cell_type": "markdown",
   "metadata": {},
   "source": [
    "What are the columns and their types?"
   ]
  },
  {
   "cell_type": "code",
   "execution_count": 127,
   "metadata": {},
   "outputs": [
    {
     "data": {
      "text/plain": [
       "Timestamp                                                                                                                                                                                                                                object\n",
       "How old are you?                                                                                                                                                                                                                         object\n",
       "What industry do you work in?                                                                                                                                                                                                            object\n",
       "Job title                                                                                                                                                                                                                                object\n",
       "If your job title needs additional context, please clarify here:                                                                                                                                                                         object\n",
       "What is your annual salary? (You'll indicate the currency in a later question. If you are part-time or hourly, please enter an annualized equivalent -- what you would earn if you worked the job 40 hours a week, 52 weeks a year.)     object\n",
       "How much additional monetary compensation do you get, if any (for example, bonuses or overtime in an average year)? Please only include monetary compensation here, not the value of benefits.                                          float64\n",
       "Please indicate the currency                                                                                                                                                                                                             object\n",
       "If \"Other,\" please indicate the currency here:                                                                                                                                                                                           object\n",
       "If your income needs additional context, please provide it here:                                                                                                                                                                         object\n",
       "What country do you work in?                                                                                                                                                                                                             object\n",
       "If you're in the U.S., what state do you work in?                                                                                                                                                                                        object\n",
       "What city do you work in?                                                                                                                                                                                                                object\n",
       "How many years of professional work experience do you have overall?                                                                                                                                                                      object\n",
       "How many years of professional work experience do you have in your field?                                                                                                                                                                object\n",
       "What is your highest level of education completed?                                                                                                                                                                                       object\n",
       "What is your gender?                                                                                                                                                                                                                     object\n",
       "What is your race? (Choose all that apply.)                                                                                                                                                                                              object\n",
       "dtype: object"
      ]
     },
     "execution_count": 127,
     "metadata": {},
     "output_type": "execute_result"
    }
   ],
   "source": [
    "# Show the column names and their types.\n",
    "df_salary.dtypes\n"
   ]
  },
  {
   "cell_type": "markdown",
   "metadata": {},
   "source": [
    "Oh… Ugh! Give these columns easier names to work with first. 🙄"
   ]
  },
  {
   "cell_type": "code",
   "execution_count": 128,
   "metadata": {},
   "outputs": [],
   "source": [
    "# Rename ‘em.\n",
    "# Non-binding suggestions: timestamp, age, industry, title, title_context, salary, additional_compensation, currency, other_currency, salary_context, country, state, city, total_yoe, field_yoe, highest_education_completed\tgender, race\n",
    "df_salary=df_salary.rename(columns={'Timestamp': 'timestamp','How old are you?': 'age','What industry do you work in?':'industry','Job title':'title','If your job title needs additional context, please clarify here:' : 'title_context', \"What is your annual salary? (You'll indicate the currency in a later question. If you are part-time or hourly, please enter an annualized equivalent -- what you would earn if you worked the job 40 hours a week, 52 weeks a year.)\": 'salary','How much additional monetary compensation do you get, if any (for example, bonuses or overtime in an average year)? Please only include monetary compensation here, not the value of benefits.': 'additional_compensation','Please indicate the currency': 'currency','If your income needs additional context, please provide it here:': 'other_currency','If your income needs additional context, please provide it here:':'salary_context',\"What country do you work in?\":'country',\"If you're in the U.S., what state do you work in?\":'state','What city do you work in?': 'city','How many years of professional work experience do you have overall?':'total_yoe','How many years of professional work experience do you have in your field? ':'field_yoe','What is your highest level of education completed?':'education','What is your gender?':'gender','What is your race? (Choose all that apply.)':'race'})\n"
   ]
  },
  {
   "cell_type": "markdown",
   "metadata": {},
   "source": [
    "It’s a lot, and that should not have been easy. 😏"
   ]
  },
  {
   "cell_type": "markdown",
   "metadata": {},
   "source": [
    "You’re going to have a gander at the computing/tech subset first because thats *your* industry. But first, what value corresponds to that `industry`?"
   ]
  },
  {
   "cell_type": "code",
   "execution_count": 129,
   "metadata": {},
   "outputs": [
    {
     "data": {
      "text/plain": [
       "industry\n",
       "Computing or Tech                        4699\n",
       "Education (Higher Education)             2464\n",
       "Nonprofits                               2419\n",
       "Health care                              1896\n",
       "Government and Public Administration     1889\n",
       "                                         ... \n",
       "Warehousing                                 1\n",
       "Education (Early Childhood Education)       1\n",
       "SAAS                                        1\n",
       "Health and Safety                           1\n",
       "Aerospace Manufacturing                     1\n",
       "Name: count, Length: 1219, dtype: int64"
      ]
     },
     "execution_count": 129,
     "metadata": {},
     "output_type": "execute_result"
    }
   ],
   "source": [
    "# List the unique industries and a count of their instances.\n",
    "df_salary['industry'].value_counts()\n"
   ]
  },
  {
   "cell_type": "code",
   "execution_count": 130,
   "metadata": {},
   "outputs": [
    {
     "data": {
      "text/plain": [
       "np.int64(4699)"
      ]
     },
     "execution_count": 130,
     "metadata": {},
     "output_type": "execute_result"
    }
   ],
   "source": [
    "df_salary['industry'].value_counts()['Computing or Tech']"
   ]
  },
  {
   "cell_type": "markdown",
   "metadata": {},
   "source": [
    "That value among the top 5 is what you’re looking for innit? Filter out all the rows not in that industry and save it into a new dataframe. "
   ]
  },
  {
   "cell_type": "code",
   "execution_count": 131,
   "metadata": {},
   "outputs": [],
   "source": [
    "# Filtery filter. (Save it to a new variable, df_salary_tech.)\n",
    "df_salary_tech=df_salary[df_salary['industry']=='Computing or Tech']\n"
   ]
  },
  {
   "cell_type": "markdown",
   "metadata": {},
   "source": [
    "Do a sanity check to make sure that the only values you kept are the one you are filtered for.  "
   ]
  },
  {
   "cell_type": "code",
   "execution_count": 132,
   "metadata": {},
   "outputs": [
    {
     "data": {
      "text/plain": [
       "industry\n",
       "Computing or Tech    4699\n",
       "Name: count, dtype: int64"
      ]
     },
     "execution_count": 132,
     "metadata": {},
     "output_type": "execute_result"
    }
   ],
   "source": [
    "# Sanity Check \n",
    "df_salary_tech['industry'].value_counts()\n",
    "#yippie i got it\n"
   ]
  },
  {
   "cell_type": "markdown",
   "metadata": {},
   "source": [
    "We are very interested in salary figures. But how many dollars 💵 is a euro 💶 or a pound 💷? That sounds like a problem for another day. 🫠\n",
    "\n",
    "For now, let’s just look at U.S. dollars (`'USD'`)."
   ]
  },
  {
   "cell_type": "code",
   "execution_count": 133,
   "metadata": {},
   "outputs": [
    {
     "data": {
      "text/plain": [
       "currency\n",
       "USD    3777\n",
       "Name: count, dtype: int64"
      ]
     },
     "execution_count": 133,
     "metadata": {},
     "output_type": "execute_result"
    }
   ],
   "source": [
    "# Filtery filter for just the jobs that pay in USD!\n",
    "df_salary_tech=df_salary_tech[df_salary_tech['currency']=='USD']\n",
    "df_salary_tech['currency'].value_counts()"
   ]
  },
  {
   "cell_type": "markdown",
   "metadata": {},
   "source": [
    "What we really want know is how each U.S. city pays in tech. What value in `country` represents the United States of America?"
   ]
  },
  {
   "cell_type": "code",
   "execution_count": 134,
   "metadata": {},
   "outputs": [
    {
     "data": {
      "text/plain": [
       "country\n",
       "United States               1576\n",
       "USA                         1222\n",
       "US                           412\n",
       "U.S.                         108\n",
       "United States of America      90\n",
       "                            ... \n",
       "Ghana                          1\n",
       "Nigeria                        1\n",
       "ss                             1\n",
       "Nigeria                        1\n",
       "Burma                          1\n",
       "Name: count, Length: 76, dtype: int64"
      ]
     },
     "execution_count": 134,
     "metadata": {},
     "output_type": "execute_result"
    }
   ],
   "source": [
    "# We did filter for USD, so if we do a count of each unique country in descending count order, the relevant value(s) should show up at the top.\n",
    "df_salary_tech['country'].value_counts(ascending=False)\n"
   ]
  },
  {
   "cell_type": "markdown",
   "metadata": {},
   "source": [
    "### Clean the Data\n",
    "\n",
    "Well, we can’t get our answers with what we currently have, so you’ll have to make some changes."
   ]
  },
  {
   "cell_type": "markdown",
   "metadata": {},
   "source": [
    "Let’s not worry about anything below the first 5 values for now. Convert the top 5 to a single canonical value―say, `'US'`, which is nice and short."
   ]
  },
  {
   "cell_type": "code",
   "execution_count": 150,
   "metadata": {},
   "outputs": [
    {
     "name": "stdout",
     "output_type": "stream",
     "text": [
      "             timestamp    age           industry                        title   salary\n",
      "8   4/27/2021 11:03:01  45-54  Computing or Tech              Systems Analyst  112,000\n",
      "43  4/27/2021 11:04:04  25-34  Computing or Tech  Principal Software Engineer  187,500\n",
      "44  4/27/2021 11:04:04  25-34  Computing or Tech         Intelligence Analyst  110,000\n",
      "46  4/27/2021 11:04:07  35-44  Computing or Tech             Mobile developer  144,600\n",
      "47  4/27/2021 11:04:09  35-44  Computing or Tech      Product Design Director  200,850\n"
     ]
    }
   ],
   "source": [
    "# Replace them all with 'US'.\n",
    "df_salary_tech.loc[df_salary_tech.sort_values(ascending=False, by=['salary']).head(5).index, 'country'] = 'US'\n",
    "pd.set_option('max_colwidth', 100)\n",
    "print(df_salary_tech[['timestamp', 'age', 'industry', 'title', 'salary']].head())"
   ]
  },
  {
   "cell_type": "markdown",
   "metadata": {},
   "source": [
    "Have a look at the count of each unique country again now."
   ]
  },
  {
   "cell_type": "code",
   "execution_count": 158,
   "metadata": {},
   "outputs": [
    {
     "name": "stdout",
     "output_type": "stream",
     "text": [
      "23625    US\n",
      "22842    US\n",
      "26519    US\n",
      "19410    US\n",
      "12654    US\n",
      "Name: country, dtype: object\n",
      "timestamp          age    industry           title  title_context  salary  additional_compensation  currency  If \"Other,\" please indicate the currency here:   salary_context  country  state     city  total_yoe  How many years of professional work experience do you have in your field?  education     gender  race                     \n",
      "2/6/2024 21:15:28  18-24  Computing or Tech  sdsd   ds             4       22.0                     USD       1                                                dd              ss       Arkansas  s     5-7 years  11 - 20 years                                                              Some college  Man     Black or African American    1\n",
      "Name: count, dtype: int64\n"
     ]
    }
   ],
   "source": [
    "# Count again.\n",
    "print(df_salary_tech.sort_values(ascending=False,by=['salary']).head(5)['country'])\n",
    "print(df_salary_tech.value_counts())"
   ]
  },
  {
   "cell_type": "markdown",
   "metadata": {},
   "source": [
    "Did you notice anything interesting?"
   ]
  },
  {
   "cell_type": "code",
   "execution_count": 171,
   "metadata": {},
   "outputs": [
    {
     "name": "stdout",
     "output_type": "stream",
     "text": [
      "['U.S.' 'Puerto Rico ' 'Australia' 'Cuba' 'Denmark' 'Canada' 'Italy'\n",
      " 'International ' 'Israel' 'India' 'Remote (philippines)' 'Singapore'\n",
      " 'Spain' 'Uruguay' 'Brazil' 'Mexico' 'United Kingdom' 'Canada ' 'ISA'\n",
      " 'Pakistan' 'New Zealand' 'Poland' 'France' 'Netherlands' 'China'\n",
      " 'San Francisco' 'Romania' 'Japan' 'Jamaica' 'Thailand' 'Colombia' 'Ghana'\n",
      " 'Nigeria' 'Burma']\n"
     ]
    }
   ],
   "source": [
    "# BONUS CREDIT: resolve [most of] those anomalous cases too without exhaustively taking every variant literally into account.\n",
    "us_variations = [\n",
    "    'United States', 'USA', 'United States of America', 'United States ', 'U.S.',\n",
    "    'US ', 'usa', 'United states', 'United State of America', 'USA ', 'U.S. ',\n",
    "    'U.S.', 'us', 'Usa', 'united states', 'Uniyed states', 'U.S.A.', 'America',\n",
    "    'U.s.', ' US', 'Unite States', 'Us', 'United State', 'UnitedStates', 'U.S', \n",
    "    'Usa ', 'United States Of America', 'United States of America ', 'United Stated', \n",
    "    'United STates', 'United Stares', 'United States of america', 'Unites States', \n",
    "    'U.S.A ', 'United Stateds', 'U.S. ', 'U.S.A', 'united States', 'Us ', 'United States Of America', \n",
    "    'united states', 'Uniyed states', 'U S', 'U.S A', 'u.s.', 'u.s', 'US','ss' #all of the us and us adjacent country names\n",
    "]\n",
    "df_salary_tech['country'] = df_salary_tech['country'].replace(us_variations, 'U.S.')\n",
    "df_salary_tech['country'] = df_salary_tech['country'].replace('Nigeria ', 'Nigeria')#nigeria edge case.\n",
    "df_salary_tech['country'] = df_salary_tech['country'].replace('singapore', 'Singapore')#singapore edge case\n",
    "df_salary_tech['country'] = df_salary_tech['country'].replace('Australian ', 'Australia')#australia edge case\n",
    "df_salary_tech['country'] = df_salary_tech['country'].replace(['Danmark','denmark'], 'Denmark')#denmark edge case\n",
    "print(df_salary_tech['country'].unique())#i think that's all of them??\n"
   ]
  },
  {
   "cell_type": "code",
   "execution_count": 172,
   "metadata": {},
   "outputs": [
    {
     "data": {
      "text/plain": [
       "country\n",
       "U.S.                    3724\n",
       "Israel                     5\n",
       "Canada                     4\n",
       "Denmark                    3\n",
       "Australia                  3\n",
       "Brazil                     2\n",
       "India                      2\n",
       "United Kingdom             2\n",
       "Spain                      2\n",
       "Singapore                  2\n",
       "Nigeria                    2\n",
       "France                     2\n",
       "New Zealand                2\n",
       "Poland                     2\n",
       "Puerto Rico                1\n",
       "Italy                      1\n",
       "Cuba                       1\n",
       "International              1\n",
       "Canada                     1\n",
       "Mexico                     1\n",
       "Remote (philippines)       1\n",
       "Uruguay                    1\n",
       "ISA                        1\n",
       "Netherlands                1\n",
       "China                      1\n",
       "Pakistan                   1\n",
       "San Francisco              1\n",
       "Romania                    1\n",
       "Jamaica                    1\n",
       "Japan                      1\n",
       "Thailand                   1\n",
       "Colombia                   1\n",
       "Ghana                      1\n",
       "Burma                      1\n",
       "Name: count, dtype: int64"
      ]
     },
     "execution_count": 172,
     "metadata": {},
     "output_type": "execute_result"
    }
   ],
   "source": [
    "\n",
    "# BONUS CREDIT: if you’ve resolved it, let’s see how well you did by counting the number of instances of each unique value.\n",
    "df_salary_tech['country'].value_counts()\n"
   ]
  },
  {
   "cell_type": "markdown",
   "metadata": {},
   "source": [
    "It’s looking good so far. Let’s find out the minimum, mean, and maximum (in that order) salary by state, sorted by the mean in descending order."
   ]
  },
  {
   "cell_type": "code",
   "execution_count": 177,
   "metadata": {},
   "outputs": [
    {
     "name": "stdout",
     "output_type": "stream",
     "text": [
      "country\n",
      "Australia                 130,000\n",
      "Brazil                    135,200\n",
      "Burma                        1700\n",
      "Canada                    125,000\n",
      "Canada                    115,000\n",
      "China                      38,526\n",
      "Colombia                    49200\n",
      "Cuba                        9,600\n",
      "Denmark                    103000\n",
      "France                    100,000\n",
      "Ghana                         500\n",
      "ISA                       167,000\n",
      "India                     100,000\n",
      "International             108,000\n",
      "Israel                    100,000\n",
      "Italy                     148,000\n",
      "Jamaica                     45000\n",
      "Japan                      135000\n",
      "Mexico                     93,000\n",
      "Netherlands                72,000\n",
      "New Zealand               145,689\n",
      "Nigeria                    250000\n",
      "Pakistan                    7,250\n",
      "Poland                    155,000\n",
      "Puerto Rico                80,000\n",
      "Remote (philippines)       64,000\n",
      "Romania                    72,120\n",
      "San Francisco              48,000\n",
      "Singapore               2,111,538\n",
      "Spain                     160,000\n",
      "Thailand                    52000\n",
      "U.S.                            0\n",
      "United Kingdom            145,000\n",
      "Uruguay                    84,000\n",
      "Name: salary, dtype: object\n"
     ]
    }
   ],
   "source": [
    "# Find the minimum, mean, and maximum salary in USD by U.S. state.\n",
    "print(df_salary_tech.groupby(['country'])['salary'].min())#this is wrong, ill continue tmr\n"
   ]
  },
  {
   "cell_type": "markdown",
   "metadata": {},
   "source": [
    "Well, pooh! We forgot that `salary` isn’t numeric. Something wrong must be fixed."
   ]
  },
  {
   "cell_type": "code",
   "execution_count": null,
   "metadata": {},
   "outputs": [],
   "source": [
    "# Fix it.\n",
    "\n"
   ]
  },
  {
   "cell_type": "markdown",
   "metadata": {},
   "source": [
    "Let’s try that again."
   ]
  },
  {
   "cell_type": "code",
   "execution_count": null,
   "metadata": {},
   "outputs": [],
   "source": [
    "# Try it again. Yeah!\n",
    "\n"
   ]
  },
  {
   "cell_type": "markdown",
   "metadata": {},
   "source": [
    "That did the trick! Now let’s narrow this to data 2021 and 2022 just because (lel). *(Hint: that timestamp column may not be a temporal type right now.)*"
   ]
  },
  {
   "cell_type": "code",
   "execution_count": null,
   "metadata": {},
   "outputs": [],
   "source": [
    "# Filter the data to within 2021, 2022, or 2023, saving the DataFrame to a new variable, and generate the summary again.\n",
    "\n"
   ]
  },
  {
   "cell_type": "markdown",
   "metadata": {},
   "source": [
    "## Bonus\n",
    "\n",
    "Clearly, we do not have enough data to produce useful figures for the level of specificity you’ve now reached. What do you notice about Delaware and West Virginia?\n",
    "\n",
    "Let’s back out a bit and return to `df_salary` (which was the loaded data with renamed columns but *sans* filtering)."
   ]
  },
  {
   "cell_type": "markdown",
   "metadata": {},
   "source": [
    "### Bonus #0\n",
    "\n",
    "Apply the same steps as before to `df_salary`, but do not filter for any specific industry. Do perform the other data cleaning stuff, and get to a point where you can generate the minimum, mean, and maximum by state."
   ]
  },
  {
   "cell_type": "code",
   "execution_count": null,
   "metadata": {},
   "outputs": [],
   "source": []
  },
  {
   "cell_type": "markdown",
   "metadata": {},
   "source": [
    "### Bonus #1\n",
    "\n",
    "This time, format the table output nicely (*$12,345.00*) without modifying the values in the `DataFrame`. That is, `df_salary` should be identical before versus after running your code.\n",
    "\n",
    "(*Hint: if you run into an error about `jinja2` perhaps you need to `pip install` something.*)"
   ]
  },
  {
   "cell_type": "code",
   "execution_count": null,
   "metadata": {},
   "outputs": [],
   "source": []
  },
  {
   "cell_type": "markdown",
   "metadata": {},
   "source": [
    "### Bonus #2\n",
    "\n",
    "Filter out the non-single-states (e.g., `'California, Colorado'`) in the most elegant way possible (i.e., *not* by blacklisting all the bad values)."
   ]
  },
  {
   "cell_type": "code",
   "execution_count": null,
   "metadata": {},
   "outputs": [],
   "source": []
  },
  {
   "cell_type": "markdown",
   "metadata": {},
   "source": [
    "### Bonus #3\n",
    "\n",
    "Show the quantiles instead of just minimum, mean, and maximum―say 0%, 5%, 25%, 50%, 75%, 95%, and 100%. Outliers may be deceiving.\n",
    "\n",
    "Sort by whatever interests you―like say the *50th* percentile.\n",
    "\n",
    "And throw in a count by state too. It would be interesting to know how many data points contribute to the figures for each state. (*Hint: your nice formatting from Bonus #1 might not work this time around.* 😜)"
   ]
  },
  {
   "cell_type": "code",
   "execution_count": null,
   "metadata": {},
   "outputs": [],
   "source": []
  }
 ],
 "metadata": {
  "kernelspec": {
   "display_name": "Python 3 (ipykernel)",
   "language": "python",
   "name": "python3"
  },
  "language_info": {
   "codemirror_mode": {
    "name": "ipython",
    "version": 3
   },
   "file_extension": ".py",
   "mimetype": "text/x-python",
   "name": "python",
   "nbconvert_exporter": "python",
   "pygments_lexer": "ipython3",
   "version": "3.12.4"
  }
 },
 "nbformat": 4,
 "nbformat_minor": 4
}
